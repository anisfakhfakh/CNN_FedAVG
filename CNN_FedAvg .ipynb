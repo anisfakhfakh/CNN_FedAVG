{
  "nbformat": 4,
  "nbformat_minor": 0,
  "metadata": {
    "accelerator": "GPU",
    "colab": {
      "name": "CNN FedAvg.ipynb",
      "provenance": [],
      "collapsed_sections": []
    },
    "kernelspec": {
      "display_name": "Python 3",
      "language": "python",
      "name": "python3"
    },
    "widgets": {
      "application/vnd.jupyter.widget-state+json": {
        "68f5b6bb35024a2e8e71120eae31cab9": {
          "model_module": "@jupyter-widgets/controls",
          "model_name": "HBoxModel",
          "state": {
            "_view_name": "HBoxView",
            "_dom_classes": [],
            "_model_name": "HBoxModel",
            "_view_module": "@jupyter-widgets/controls",
            "_model_module_version": "1.5.0",
            "_view_count": null,
            "_view_module_version": "1.5.0",
            "box_style": "",
            "layout": "IPY_MODEL_402320f25fee41deae6fd8828d63537f",
            "_model_module": "@jupyter-widgets/controls",
            "children": [
              "IPY_MODEL_2447d5a9cac5450c86736e4309cef2ef",
              "IPY_MODEL_6c865d9c824248dd8b4ef5994f153f05"
            ]
          }
        },
        "402320f25fee41deae6fd8828d63537f": {
          "model_module": "@jupyter-widgets/base",
          "model_name": "LayoutModel",
          "state": {
            "_view_name": "LayoutView",
            "grid_template_rows": null,
            "right": null,
            "justify_content": null,
            "_view_module": "@jupyter-widgets/base",
            "overflow": null,
            "_model_module_version": "1.2.0",
            "_view_count": null,
            "flex_flow": null,
            "width": null,
            "min_width": null,
            "border": null,
            "align_items": null,
            "bottom": null,
            "_model_module": "@jupyter-widgets/base",
            "top": null,
            "grid_column": null,
            "overflow_y": null,
            "overflow_x": null,
            "grid_auto_flow": null,
            "grid_area": null,
            "grid_template_columns": null,
            "flex": null,
            "_model_name": "LayoutModel",
            "justify_items": null,
            "grid_row": null,
            "max_height": null,
            "align_content": null,
            "visibility": null,
            "align_self": null,
            "height": null,
            "min_height": null,
            "padding": null,
            "grid_auto_rows": null,
            "grid_gap": null,
            "max_width": null,
            "order": null,
            "_view_module_version": "1.2.0",
            "grid_template_areas": null,
            "object_position": null,
            "object_fit": null,
            "grid_auto_columns": null,
            "margin": null,
            "display": null,
            "left": null
          }
        },
        "2447d5a9cac5450c86736e4309cef2ef": {
          "model_module": "@jupyter-widgets/controls",
          "model_name": "FloatProgressModel",
          "state": {
            "_view_name": "ProgressView",
            "style": "IPY_MODEL_bd6e61203a2a4de5a086a7a0a9113332",
            "_dom_classes": [],
            "description": "",
            "_model_name": "FloatProgressModel",
            "bar_style": "success",
            "max": 1,
            "_view_module": "@jupyter-widgets/controls",
            "_model_module_version": "1.5.0",
            "value": 1,
            "_view_count": null,
            "_view_module_version": "1.5.0",
            "orientation": "horizontal",
            "min": 0,
            "description_tooltip": null,
            "_model_module": "@jupyter-widgets/controls",
            "layout": "IPY_MODEL_01b932da9b0c4797980889bf52846e94"
          }
        },
        "6c865d9c824248dd8b4ef5994f153f05": {
          "model_module": "@jupyter-widgets/controls",
          "model_name": "HTMLModel",
          "state": {
            "_view_name": "HTMLView",
            "style": "IPY_MODEL_0ac29ce20eaa4e0ea684c1f8d75f7430",
            "_dom_classes": [],
            "description": "",
            "_model_name": "HTMLModel",
            "placeholder": "​",
            "_view_module": "@jupyter-widgets/controls",
            "_model_module_version": "1.5.0",
            "value": " 26427392/? [00:05&lt;00:00, 4955992.81it/s]",
            "_view_count": null,
            "_view_module_version": "1.5.0",
            "description_tooltip": null,
            "_model_module": "@jupyter-widgets/controls",
            "layout": "IPY_MODEL_9d86a355faeb4185ab565c6fd0f2c692"
          }
        },
        "bd6e61203a2a4de5a086a7a0a9113332": {
          "model_module": "@jupyter-widgets/controls",
          "model_name": "ProgressStyleModel",
          "state": {
            "_view_name": "StyleView",
            "_model_name": "ProgressStyleModel",
            "description_width": "initial",
            "_view_module": "@jupyter-widgets/base",
            "_model_module_version": "1.5.0",
            "_view_count": null,
            "_view_module_version": "1.2.0",
            "bar_color": null,
            "_model_module": "@jupyter-widgets/controls"
          }
        },
        "01b932da9b0c4797980889bf52846e94": {
          "model_module": "@jupyter-widgets/base",
          "model_name": "LayoutModel",
          "state": {
            "_view_name": "LayoutView",
            "grid_template_rows": null,
            "right": null,
            "justify_content": null,
            "_view_module": "@jupyter-widgets/base",
            "overflow": null,
            "_model_module_version": "1.2.0",
            "_view_count": null,
            "flex_flow": null,
            "width": null,
            "min_width": null,
            "border": null,
            "align_items": null,
            "bottom": null,
            "_model_module": "@jupyter-widgets/base",
            "top": null,
            "grid_column": null,
            "overflow_y": null,
            "overflow_x": null,
            "grid_auto_flow": null,
            "grid_area": null,
            "grid_template_columns": null,
            "flex": null,
            "_model_name": "LayoutModel",
            "justify_items": null,
            "grid_row": null,
            "max_height": null,
            "align_content": null,
            "visibility": null,
            "align_self": null,
            "height": null,
            "min_height": null,
            "padding": null,
            "grid_auto_rows": null,
            "grid_gap": null,
            "max_width": null,
            "order": null,
            "_view_module_version": "1.2.0",
            "grid_template_areas": null,
            "object_position": null,
            "object_fit": null,
            "grid_auto_columns": null,
            "margin": null,
            "display": null,
            "left": null
          }
        },
        "0ac29ce20eaa4e0ea684c1f8d75f7430": {
          "model_module": "@jupyter-widgets/controls",
          "model_name": "DescriptionStyleModel",
          "state": {
            "_view_name": "StyleView",
            "_model_name": "DescriptionStyleModel",
            "description_width": "",
            "_view_module": "@jupyter-widgets/base",
            "_model_module_version": "1.5.0",
            "_view_count": null,
            "_view_module_version": "1.2.0",
            "_model_module": "@jupyter-widgets/controls"
          }
        },
        "9d86a355faeb4185ab565c6fd0f2c692": {
          "model_module": "@jupyter-widgets/base",
          "model_name": "LayoutModel",
          "state": {
            "_view_name": "LayoutView",
            "grid_template_rows": null,
            "right": null,
            "justify_content": null,
            "_view_module": "@jupyter-widgets/base",
            "overflow": null,
            "_model_module_version": "1.2.0",
            "_view_count": null,
            "flex_flow": null,
            "width": null,
            "min_width": null,
            "border": null,
            "align_items": null,
            "bottom": null,
            "_model_module": "@jupyter-widgets/base",
            "top": null,
            "grid_column": null,
            "overflow_y": null,
            "overflow_x": null,
            "grid_auto_flow": null,
            "grid_area": null,
            "grid_template_columns": null,
            "flex": null,
            "_model_name": "LayoutModel",
            "justify_items": null,
            "grid_row": null,
            "max_height": null,
            "align_content": null,
            "visibility": null,
            "align_self": null,
            "height": null,
            "min_height": null,
            "padding": null,
            "grid_auto_rows": null,
            "grid_gap": null,
            "max_width": null,
            "order": null,
            "_view_module_version": "1.2.0",
            "grid_template_areas": null,
            "object_position": null,
            "object_fit": null,
            "grid_auto_columns": null,
            "margin": null,
            "display": null,
            "left": null
          }
        },
        "70f36ba779a848d7bca58c5a61e3e0f9": {
          "model_module": "@jupyter-widgets/controls",
          "model_name": "HBoxModel",
          "state": {
            "_view_name": "HBoxView",
            "_dom_classes": [],
            "_model_name": "HBoxModel",
            "_view_module": "@jupyter-widgets/controls",
            "_model_module_version": "1.5.0",
            "_view_count": null,
            "_view_module_version": "1.5.0",
            "box_style": "",
            "layout": "IPY_MODEL_c1fc8e7797a6402db5e3e87d23b213b9",
            "_model_module": "@jupyter-widgets/controls",
            "children": [
              "IPY_MODEL_10eb839d0a20429d820d9562b54203c6",
              "IPY_MODEL_058c7a682900475a80701820758f7632"
            ]
          }
        },
        "c1fc8e7797a6402db5e3e87d23b213b9": {
          "model_module": "@jupyter-widgets/base",
          "model_name": "LayoutModel",
          "state": {
            "_view_name": "LayoutView",
            "grid_template_rows": null,
            "right": null,
            "justify_content": null,
            "_view_module": "@jupyter-widgets/base",
            "overflow": null,
            "_model_module_version": "1.2.0",
            "_view_count": null,
            "flex_flow": null,
            "width": null,
            "min_width": null,
            "border": null,
            "align_items": null,
            "bottom": null,
            "_model_module": "@jupyter-widgets/base",
            "top": null,
            "grid_column": null,
            "overflow_y": null,
            "overflow_x": null,
            "grid_auto_flow": null,
            "grid_area": null,
            "grid_template_columns": null,
            "flex": null,
            "_model_name": "LayoutModel",
            "justify_items": null,
            "grid_row": null,
            "max_height": null,
            "align_content": null,
            "visibility": null,
            "align_self": null,
            "height": null,
            "min_height": null,
            "padding": null,
            "grid_auto_rows": null,
            "grid_gap": null,
            "max_width": null,
            "order": null,
            "_view_module_version": "1.2.0",
            "grid_template_areas": null,
            "object_position": null,
            "object_fit": null,
            "grid_auto_columns": null,
            "margin": null,
            "display": null,
            "left": null
          }
        },
        "10eb839d0a20429d820d9562b54203c6": {
          "model_module": "@jupyter-widgets/controls",
          "model_name": "FloatProgressModel",
          "state": {
            "_view_name": "ProgressView",
            "style": "IPY_MODEL_e73994ebbde245d8b8b736476408d84a",
            "_dom_classes": [],
            "description": "",
            "_model_name": "FloatProgressModel",
            "bar_style": "success",
            "max": 1,
            "_view_module": "@jupyter-widgets/controls",
            "_model_module_version": "1.5.0",
            "value": 1,
            "_view_count": null,
            "_view_module_version": "1.5.0",
            "orientation": "horizontal",
            "min": 0,
            "description_tooltip": null,
            "_model_module": "@jupyter-widgets/controls",
            "layout": "IPY_MODEL_b073eec6c3f74adab0cd64f308265ea3"
          }
        },
        "058c7a682900475a80701820758f7632": {
          "model_module": "@jupyter-widgets/controls",
          "model_name": "HTMLModel",
          "state": {
            "_view_name": "HTMLView",
            "style": "IPY_MODEL_178d484d76a44816830acef233fd8065",
            "_dom_classes": [],
            "description": "",
            "_model_name": "HTMLModel",
            "placeholder": "​",
            "_view_module": "@jupyter-widgets/controls",
            "_model_module_version": "1.5.0",
            "value": " 32768/? [00:01&lt;00:00, 21482.29it/s]",
            "_view_count": null,
            "_view_module_version": "1.5.0",
            "description_tooltip": null,
            "_model_module": "@jupyter-widgets/controls",
            "layout": "IPY_MODEL_741f369c45094d838faef5ee345a9992"
          }
        },
        "e73994ebbde245d8b8b736476408d84a": {
          "model_module": "@jupyter-widgets/controls",
          "model_name": "ProgressStyleModel",
          "state": {
            "_view_name": "StyleView",
            "_model_name": "ProgressStyleModel",
            "description_width": "initial",
            "_view_module": "@jupyter-widgets/base",
            "_model_module_version": "1.5.0",
            "_view_count": null,
            "_view_module_version": "1.2.0",
            "bar_color": null,
            "_model_module": "@jupyter-widgets/controls"
          }
        },
        "b073eec6c3f74adab0cd64f308265ea3": {
          "model_module": "@jupyter-widgets/base",
          "model_name": "LayoutModel",
          "state": {
            "_view_name": "LayoutView",
            "grid_template_rows": null,
            "right": null,
            "justify_content": null,
            "_view_module": "@jupyter-widgets/base",
            "overflow": null,
            "_model_module_version": "1.2.0",
            "_view_count": null,
            "flex_flow": null,
            "width": null,
            "min_width": null,
            "border": null,
            "align_items": null,
            "bottom": null,
            "_model_module": "@jupyter-widgets/base",
            "top": null,
            "grid_column": null,
            "overflow_y": null,
            "overflow_x": null,
            "grid_auto_flow": null,
            "grid_area": null,
            "grid_template_columns": null,
            "flex": null,
            "_model_name": "LayoutModel",
            "justify_items": null,
            "grid_row": null,
            "max_height": null,
            "align_content": null,
            "visibility": null,
            "align_self": null,
            "height": null,
            "min_height": null,
            "padding": null,
            "grid_auto_rows": null,
            "grid_gap": null,
            "max_width": null,
            "order": null,
            "_view_module_version": "1.2.0",
            "grid_template_areas": null,
            "object_position": null,
            "object_fit": null,
            "grid_auto_columns": null,
            "margin": null,
            "display": null,
            "left": null
          }
        },
        "178d484d76a44816830acef233fd8065": {
          "model_module": "@jupyter-widgets/controls",
          "model_name": "DescriptionStyleModel",
          "state": {
            "_view_name": "StyleView",
            "_model_name": "DescriptionStyleModel",
            "description_width": "",
            "_view_module": "@jupyter-widgets/base",
            "_model_module_version": "1.5.0",
            "_view_count": null,
            "_view_module_version": "1.2.0",
            "_model_module": "@jupyter-widgets/controls"
          }
        },
        "741f369c45094d838faef5ee345a9992": {
          "model_module": "@jupyter-widgets/base",
          "model_name": "LayoutModel",
          "state": {
            "_view_name": "LayoutView",
            "grid_template_rows": null,
            "right": null,
            "justify_content": null,
            "_view_module": "@jupyter-widgets/base",
            "overflow": null,
            "_model_module_version": "1.2.0",
            "_view_count": null,
            "flex_flow": null,
            "width": null,
            "min_width": null,
            "border": null,
            "align_items": null,
            "bottom": null,
            "_model_module": "@jupyter-widgets/base",
            "top": null,
            "grid_column": null,
            "overflow_y": null,
            "overflow_x": null,
            "grid_auto_flow": null,
            "grid_area": null,
            "grid_template_columns": null,
            "flex": null,
            "_model_name": "LayoutModel",
            "justify_items": null,
            "grid_row": null,
            "max_height": null,
            "align_content": null,
            "visibility": null,
            "align_self": null,
            "height": null,
            "min_height": null,
            "padding": null,
            "grid_auto_rows": null,
            "grid_gap": null,
            "max_width": null,
            "order": null,
            "_view_module_version": "1.2.0",
            "grid_template_areas": null,
            "object_position": null,
            "object_fit": null,
            "grid_auto_columns": null,
            "margin": null,
            "display": null,
            "left": null
          }
        },
        "ee9339bf6f4945a1bc27fe786efdf37d": {
          "model_module": "@jupyter-widgets/controls",
          "model_name": "HBoxModel",
          "state": {
            "_view_name": "HBoxView",
            "_dom_classes": [],
            "_model_name": "HBoxModel",
            "_view_module": "@jupyter-widgets/controls",
            "_model_module_version": "1.5.0",
            "_view_count": null,
            "_view_module_version": "1.5.0",
            "box_style": "",
            "layout": "IPY_MODEL_515d4f6716c54a5bba84ce76a0073714",
            "_model_module": "@jupyter-widgets/controls",
            "children": [
              "IPY_MODEL_1705c4fd610742de87c917c4bce6cd97",
              "IPY_MODEL_b9ed07d9938146c8a0d9f1a4b617b93d"
            ]
          }
        },
        "515d4f6716c54a5bba84ce76a0073714": {
          "model_module": "@jupyter-widgets/base",
          "model_name": "LayoutModel",
          "state": {
            "_view_name": "LayoutView",
            "grid_template_rows": null,
            "right": null,
            "justify_content": null,
            "_view_module": "@jupyter-widgets/base",
            "overflow": null,
            "_model_module_version": "1.2.0",
            "_view_count": null,
            "flex_flow": null,
            "width": null,
            "min_width": null,
            "border": null,
            "align_items": null,
            "bottom": null,
            "_model_module": "@jupyter-widgets/base",
            "top": null,
            "grid_column": null,
            "overflow_y": null,
            "overflow_x": null,
            "grid_auto_flow": null,
            "grid_area": null,
            "grid_template_columns": null,
            "flex": null,
            "_model_name": "LayoutModel",
            "justify_items": null,
            "grid_row": null,
            "max_height": null,
            "align_content": null,
            "visibility": null,
            "align_self": null,
            "height": null,
            "min_height": null,
            "padding": null,
            "grid_auto_rows": null,
            "grid_gap": null,
            "max_width": null,
            "order": null,
            "_view_module_version": "1.2.0",
            "grid_template_areas": null,
            "object_position": null,
            "object_fit": null,
            "grid_auto_columns": null,
            "margin": null,
            "display": null,
            "left": null
          }
        },
        "1705c4fd610742de87c917c4bce6cd97": {
          "model_module": "@jupyter-widgets/controls",
          "model_name": "FloatProgressModel",
          "state": {
            "_view_name": "ProgressView",
            "style": "IPY_MODEL_05f07a09fa674adf8ccfc266c5923c24",
            "_dom_classes": [],
            "description": "",
            "_model_name": "FloatProgressModel",
            "bar_style": "success",
            "max": 1,
            "_view_module": "@jupyter-widgets/controls",
            "_model_module_version": "1.5.0",
            "value": 1,
            "_view_count": null,
            "_view_module_version": "1.5.0",
            "orientation": "horizontal",
            "min": 0,
            "description_tooltip": null,
            "_model_module": "@jupyter-widgets/controls",
            "layout": "IPY_MODEL_9a87a036e82a4279a73d059544d54ae6"
          }
        },
        "b9ed07d9938146c8a0d9f1a4b617b93d": {
          "model_module": "@jupyter-widgets/controls",
          "model_name": "HTMLModel",
          "state": {
            "_view_name": "HTMLView",
            "style": "IPY_MODEL_28a69d5e8aff4d8b8504168ecf54fe22",
            "_dom_classes": [],
            "description": "",
            "_model_name": "HTMLModel",
            "placeholder": "​",
            "_view_module": "@jupyter-widgets/controls",
            "_model_module_version": "1.5.0",
            "value": " 4423680/? [00:01&lt;00:00, 3760801.96it/s]",
            "_view_count": null,
            "_view_module_version": "1.5.0",
            "description_tooltip": null,
            "_model_module": "@jupyter-widgets/controls",
            "layout": "IPY_MODEL_2017b8a7f5c24ecf8ebd8e4aa88aa88e"
          }
        },
        "05f07a09fa674adf8ccfc266c5923c24": {
          "model_module": "@jupyter-widgets/controls",
          "model_name": "ProgressStyleModel",
          "state": {
            "_view_name": "StyleView",
            "_model_name": "ProgressStyleModel",
            "description_width": "initial",
            "_view_module": "@jupyter-widgets/base",
            "_model_module_version": "1.5.0",
            "_view_count": null,
            "_view_module_version": "1.2.0",
            "bar_color": null,
            "_model_module": "@jupyter-widgets/controls"
          }
        },
        "9a87a036e82a4279a73d059544d54ae6": {
          "model_module": "@jupyter-widgets/base",
          "model_name": "LayoutModel",
          "state": {
            "_view_name": "LayoutView",
            "grid_template_rows": null,
            "right": null,
            "justify_content": null,
            "_view_module": "@jupyter-widgets/base",
            "overflow": null,
            "_model_module_version": "1.2.0",
            "_view_count": null,
            "flex_flow": null,
            "width": null,
            "min_width": null,
            "border": null,
            "align_items": null,
            "bottom": null,
            "_model_module": "@jupyter-widgets/base",
            "top": null,
            "grid_column": null,
            "overflow_y": null,
            "overflow_x": null,
            "grid_auto_flow": null,
            "grid_area": null,
            "grid_template_columns": null,
            "flex": null,
            "_model_name": "LayoutModel",
            "justify_items": null,
            "grid_row": null,
            "max_height": null,
            "align_content": null,
            "visibility": null,
            "align_self": null,
            "height": null,
            "min_height": null,
            "padding": null,
            "grid_auto_rows": null,
            "grid_gap": null,
            "max_width": null,
            "order": null,
            "_view_module_version": "1.2.0",
            "grid_template_areas": null,
            "object_position": null,
            "object_fit": null,
            "grid_auto_columns": null,
            "margin": null,
            "display": null,
            "left": null
          }
        },
        "28a69d5e8aff4d8b8504168ecf54fe22": {
          "model_module": "@jupyter-widgets/controls",
          "model_name": "DescriptionStyleModel",
          "state": {
            "_view_name": "StyleView",
            "_model_name": "DescriptionStyleModel",
            "description_width": "",
            "_view_module": "@jupyter-widgets/base",
            "_model_module_version": "1.5.0",
            "_view_count": null,
            "_view_module_version": "1.2.0",
            "_model_module": "@jupyter-widgets/controls"
          }
        },
        "2017b8a7f5c24ecf8ebd8e4aa88aa88e": {
          "model_module": "@jupyter-widgets/base",
          "model_name": "LayoutModel",
          "state": {
            "_view_name": "LayoutView",
            "grid_template_rows": null,
            "right": null,
            "justify_content": null,
            "_view_module": "@jupyter-widgets/base",
            "overflow": null,
            "_model_module_version": "1.2.0",
            "_view_count": null,
            "flex_flow": null,
            "width": null,
            "min_width": null,
            "border": null,
            "align_items": null,
            "bottom": null,
            "_model_module": "@jupyter-widgets/base",
            "top": null,
            "grid_column": null,
            "overflow_y": null,
            "overflow_x": null,
            "grid_auto_flow": null,
            "grid_area": null,
            "grid_template_columns": null,
            "flex": null,
            "_model_name": "LayoutModel",
            "justify_items": null,
            "grid_row": null,
            "max_height": null,
            "align_content": null,
            "visibility": null,
            "align_self": null,
            "height": null,
            "min_height": null,
            "padding": null,
            "grid_auto_rows": null,
            "grid_gap": null,
            "max_width": null,
            "order": null,
            "_view_module_version": "1.2.0",
            "grid_template_areas": null,
            "object_position": null,
            "object_fit": null,
            "grid_auto_columns": null,
            "margin": null,
            "display": null,
            "left": null
          }
        },
        "cc179330b5074effb0758dfad44fc1f2": {
          "model_module": "@jupyter-widgets/controls",
          "model_name": "HBoxModel",
          "state": {
            "_view_name": "HBoxView",
            "_dom_classes": [],
            "_model_name": "HBoxModel",
            "_view_module": "@jupyter-widgets/controls",
            "_model_module_version": "1.5.0",
            "_view_count": null,
            "_view_module_version": "1.5.0",
            "box_style": "",
            "layout": "IPY_MODEL_2522a442343948b5a148de82a8353ccb",
            "_model_module": "@jupyter-widgets/controls",
            "children": [
              "IPY_MODEL_c7098e4e452f430cb5e53f16f733b553",
              "IPY_MODEL_b522dc429c3c4c89b369aeb450da661a"
            ]
          }
        },
        "2522a442343948b5a148de82a8353ccb": {
          "model_module": "@jupyter-widgets/base",
          "model_name": "LayoutModel",
          "state": {
            "_view_name": "LayoutView",
            "grid_template_rows": null,
            "right": null,
            "justify_content": null,
            "_view_module": "@jupyter-widgets/base",
            "overflow": null,
            "_model_module_version": "1.2.0",
            "_view_count": null,
            "flex_flow": null,
            "width": null,
            "min_width": null,
            "border": null,
            "align_items": null,
            "bottom": null,
            "_model_module": "@jupyter-widgets/base",
            "top": null,
            "grid_column": null,
            "overflow_y": null,
            "overflow_x": null,
            "grid_auto_flow": null,
            "grid_area": null,
            "grid_template_columns": null,
            "flex": null,
            "_model_name": "LayoutModel",
            "justify_items": null,
            "grid_row": null,
            "max_height": null,
            "align_content": null,
            "visibility": null,
            "align_self": null,
            "height": null,
            "min_height": null,
            "padding": null,
            "grid_auto_rows": null,
            "grid_gap": null,
            "max_width": null,
            "order": null,
            "_view_module_version": "1.2.0",
            "grid_template_areas": null,
            "object_position": null,
            "object_fit": null,
            "grid_auto_columns": null,
            "margin": null,
            "display": null,
            "left": null
          }
        },
        "c7098e4e452f430cb5e53f16f733b553": {
          "model_module": "@jupyter-widgets/controls",
          "model_name": "FloatProgressModel",
          "state": {
            "_view_name": "ProgressView",
            "style": "IPY_MODEL_1f946e0798ab4e04861d404672662915",
            "_dom_classes": [],
            "description": "",
            "_model_name": "FloatProgressModel",
            "bar_style": "success",
            "max": 1,
            "_view_module": "@jupyter-widgets/controls",
            "_model_module_version": "1.5.0",
            "value": 1,
            "_view_count": null,
            "_view_module_version": "1.5.0",
            "orientation": "horizontal",
            "min": 0,
            "description_tooltip": null,
            "_model_module": "@jupyter-widgets/controls",
            "layout": "IPY_MODEL_e09ed4cfb82a423897a33f5d74ded361"
          }
        },
        "b522dc429c3c4c89b369aeb450da661a": {
          "model_module": "@jupyter-widgets/controls",
          "model_name": "HTMLModel",
          "state": {
            "_view_name": "HTMLView",
            "style": "IPY_MODEL_1aa65212e14e4329bdf5e9e9e06b9bc0",
            "_dom_classes": [],
            "description": "",
            "_model_name": "HTMLModel",
            "placeholder": "​",
            "_view_module": "@jupyter-widgets/controls",
            "_model_module_version": "1.5.0",
            "value": " 8192/? [00:01&lt;00:00, 6101.56it/s]",
            "_view_count": null,
            "_view_module_version": "1.5.0",
            "description_tooltip": null,
            "_model_module": "@jupyter-widgets/controls",
            "layout": "IPY_MODEL_7d31ce6f81fb4269a671a70aa0dcc264"
          }
        },
        "1f946e0798ab4e04861d404672662915": {
          "model_module": "@jupyter-widgets/controls",
          "model_name": "ProgressStyleModel",
          "state": {
            "_view_name": "StyleView",
            "_model_name": "ProgressStyleModel",
            "description_width": "initial",
            "_view_module": "@jupyter-widgets/base",
            "_model_module_version": "1.5.0",
            "_view_count": null,
            "_view_module_version": "1.2.0",
            "bar_color": null,
            "_model_module": "@jupyter-widgets/controls"
          }
        },
        "e09ed4cfb82a423897a33f5d74ded361": {
          "model_module": "@jupyter-widgets/base",
          "model_name": "LayoutModel",
          "state": {
            "_view_name": "LayoutView",
            "grid_template_rows": null,
            "right": null,
            "justify_content": null,
            "_view_module": "@jupyter-widgets/base",
            "overflow": null,
            "_model_module_version": "1.2.0",
            "_view_count": null,
            "flex_flow": null,
            "width": null,
            "min_width": null,
            "border": null,
            "align_items": null,
            "bottom": null,
            "_model_module": "@jupyter-widgets/base",
            "top": null,
            "grid_column": null,
            "overflow_y": null,
            "overflow_x": null,
            "grid_auto_flow": null,
            "grid_area": null,
            "grid_template_columns": null,
            "flex": null,
            "_model_name": "LayoutModel",
            "justify_items": null,
            "grid_row": null,
            "max_height": null,
            "align_content": null,
            "visibility": null,
            "align_self": null,
            "height": null,
            "min_height": null,
            "padding": null,
            "grid_auto_rows": null,
            "grid_gap": null,
            "max_width": null,
            "order": null,
            "_view_module_version": "1.2.0",
            "grid_template_areas": null,
            "object_position": null,
            "object_fit": null,
            "grid_auto_columns": null,
            "margin": null,
            "display": null,
            "left": null
          }
        },
        "1aa65212e14e4329bdf5e9e9e06b9bc0": {
          "model_module": "@jupyter-widgets/controls",
          "model_name": "DescriptionStyleModel",
          "state": {
            "_view_name": "StyleView",
            "_model_name": "DescriptionStyleModel",
            "description_width": "",
            "_view_module": "@jupyter-widgets/base",
            "_model_module_version": "1.5.0",
            "_view_count": null,
            "_view_module_version": "1.2.0",
            "_model_module": "@jupyter-widgets/controls"
          }
        },
        "7d31ce6f81fb4269a671a70aa0dcc264": {
          "model_module": "@jupyter-widgets/base",
          "model_name": "LayoutModel",
          "state": {
            "_view_name": "LayoutView",
            "grid_template_rows": null,
            "right": null,
            "justify_content": null,
            "_view_module": "@jupyter-widgets/base",
            "overflow": null,
            "_model_module_version": "1.2.0",
            "_view_count": null,
            "flex_flow": null,
            "width": null,
            "min_width": null,
            "border": null,
            "align_items": null,
            "bottom": null,
            "_model_module": "@jupyter-widgets/base",
            "top": null,
            "grid_column": null,
            "overflow_y": null,
            "overflow_x": null,
            "grid_auto_flow": null,
            "grid_area": null,
            "grid_template_columns": null,
            "flex": null,
            "_model_name": "LayoutModel",
            "justify_items": null,
            "grid_row": null,
            "max_height": null,
            "align_content": null,
            "visibility": null,
            "align_self": null,
            "height": null,
            "min_height": null,
            "padding": null,
            "grid_auto_rows": null,
            "grid_gap": null,
            "max_width": null,
            "order": null,
            "_view_module_version": "1.2.0",
            "grid_template_areas": null,
            "object_position": null,
            "object_fit": null,
            "grid_auto_columns": null,
            "margin": null,
            "display": null,
            "left": null
          }
        }
      }
    }
  },
  "cells": [
    {
      "cell_type": "markdown",
      "metadata": {
        "id": "NomukEAzPMMe"
      },
      "source": [
        "# Imports"
      ]
    },
    {
      "cell_type": "code",
      "metadata": {
        "id": "YUIYSeDiPMMi"
      },
      "source": [
        "import torchvision\n",
        "import torchvision.transforms as transforms\n",
        "import torch\n",
        "from sklearn.model_selection import train_test_split\n",
        "import numpy as np\n",
        "from torch.utils.data import Dataset, DataLoader, random_split, Subset, WeightedRandomSampler\n",
        "import matplotlib.pyplot as plt\n",
        "import seaborn as sns\n",
        "import pandas as pd\n",
        "import random\n",
        "import math\n",
        "import torch.nn as nn\n",
        "from torch.utils.data import TensorDataset\n",
        "from sklearn.metrics import accuracy_score\n",
        "random.seed(7)"
      ],
      "execution_count": null,
      "outputs": []
    },
    {
      "cell_type": "markdown",
      "metadata": {
        "id": "MmEiE2vNPMMk"
      },
      "source": [
        "# Data preparation"
      ]
    },
    {
      "cell_type": "code",
      "metadata": {
        "colab": {
          "base_uri": "https://localhost:8080/",
          "height": 403,
          "referenced_widgets": [
            "68f5b6bb35024a2e8e71120eae31cab9",
            "402320f25fee41deae6fd8828d63537f",
            "2447d5a9cac5450c86736e4309cef2ef",
            "6c865d9c824248dd8b4ef5994f153f05",
            "bd6e61203a2a4de5a086a7a0a9113332",
            "01b932da9b0c4797980889bf52846e94",
            "0ac29ce20eaa4e0ea684c1f8d75f7430",
            "9d86a355faeb4185ab565c6fd0f2c692",
            "70f36ba779a848d7bca58c5a61e3e0f9",
            "c1fc8e7797a6402db5e3e87d23b213b9",
            "10eb839d0a20429d820d9562b54203c6",
            "058c7a682900475a80701820758f7632",
            "e73994ebbde245d8b8b736476408d84a",
            "b073eec6c3f74adab0cd64f308265ea3",
            "178d484d76a44816830acef233fd8065",
            "741f369c45094d838faef5ee345a9992",
            "ee9339bf6f4945a1bc27fe786efdf37d",
            "515d4f6716c54a5bba84ce76a0073714",
            "1705c4fd610742de87c917c4bce6cd97",
            "b9ed07d9938146c8a0d9f1a4b617b93d",
            "05f07a09fa674adf8ccfc266c5923c24",
            "9a87a036e82a4279a73d059544d54ae6",
            "28a69d5e8aff4d8b8504168ecf54fe22",
            "2017b8a7f5c24ecf8ebd8e4aa88aa88e",
            "cc179330b5074effb0758dfad44fc1f2",
            "2522a442343948b5a148de82a8353ccb",
            "c7098e4e452f430cb5e53f16f733b553",
            "b522dc429c3c4c89b369aeb450da661a",
            "1f946e0798ab4e04861d404672662915",
            "e09ed4cfb82a423897a33f5d74ded361",
            "1aa65212e14e4329bdf5e9e9e06b9bc0",
            "7d31ce6f81fb4269a671a70aa0dcc264"
          ]
        },
        "id": "vTu0P0xiPMMk",
        "outputId": "2b96cc09-f55a-42d0-eaaf-97c9e476268d"
      },
      "source": [
        "# train and test set\n",
        "train_set=torchvision.datasets.FashionMNIST(root= './MNISTT_data/',\n",
        "                                  download= True,\n",
        "                                  transform= transforms.Compose([transforms.ToTensor()]))\n",
        "test_set=torchvision.datasets.FashionMNIST(root= './MNISTT_data/',\n",
        "                                  train=False,\n",
        "                                  download= True,\n",
        "                                  transform= transforms.Compose([transforms.ToTensor()]))\n"
      ],
      "execution_count": null,
      "outputs": [
        {
          "output_type": "stream",
          "text": [
            "Downloading http://fashion-mnist.s3-website.eu-central-1.amazonaws.com/train-images-idx3-ubyte.gz to ./MNISTT_data/FashionMNIST/raw/train-images-idx3-ubyte.gz\n"
          ],
          "name": "stdout"
        },
        {
          "output_type": "display_data",
          "data": {
            "application/vnd.jupyter.widget-view+json": {
              "model_id": "68f5b6bb35024a2e8e71120eae31cab9",
              "version_minor": 0,
              "version_major": 2
            },
            "text/plain": [
              "HBox(children=(FloatProgress(value=1.0, bar_style='info', max=1.0), HTML(value='')))"
            ]
          },
          "metadata": {
            "tags": []
          }
        },
        {
          "output_type": "stream",
          "text": [
            "Extracting ./MNISTT_data/FashionMNIST/raw/train-images-idx3-ubyte.gz to ./MNISTT_data/FashionMNIST/raw\n",
            "Downloading http://fashion-mnist.s3-website.eu-central-1.amazonaws.com/train-labels-idx1-ubyte.gz to ./MNISTT_data/FashionMNIST/raw/train-labels-idx1-ubyte.gz\n"
          ],
          "name": "stdout"
        },
        {
          "output_type": "display_data",
          "data": {
            "application/vnd.jupyter.widget-view+json": {
              "model_id": "70f36ba779a848d7bca58c5a61e3e0f9",
              "version_minor": 0,
              "version_major": 2
            },
            "text/plain": [
              "HBox(children=(FloatProgress(value=1.0, bar_style='info', max=1.0), HTML(value='')))"
            ]
          },
          "metadata": {
            "tags": []
          }
        },
        {
          "output_type": "stream",
          "text": [
            "Extracting ./MNISTT_data/FashionMNIST/raw/train-labels-idx1-ubyte.gz to ./MNISTT_data/FashionMNIST/raw\n",
            "Downloading http://fashion-mnist.s3-website.eu-central-1.amazonaws.com/t10k-images-idx3-ubyte.gz to ./MNISTT_data/FashionMNIST/raw/t10k-images-idx3-ubyte.gz\n"
          ],
          "name": "stdout"
        },
        {
          "output_type": "display_data",
          "data": {
            "application/vnd.jupyter.widget-view+json": {
              "model_id": "ee9339bf6f4945a1bc27fe786efdf37d",
              "version_minor": 0,
              "version_major": 2
            },
            "text/plain": [
              "HBox(children=(FloatProgress(value=1.0, bar_style='info', max=1.0), HTML(value='')))"
            ]
          },
          "metadata": {
            "tags": []
          }
        },
        {
          "output_type": "stream",
          "text": [
            "Extracting ./MNISTT_data/FashionMNIST/raw/t10k-images-idx3-ubyte.gz to ./MNISTT_data/FashionMNIST/raw\n",
            "Downloading http://fashion-mnist.s3-website.eu-central-1.amazonaws.com/t10k-labels-idx1-ubyte.gz to ./MNISTT_data/FashionMNIST/raw/t10k-labels-idx1-ubyte.gz\n",
            "\n",
            "\n"
          ],
          "name": "stdout"
        },
        {
          "output_type": "display_data",
          "data": {
            "application/vnd.jupyter.widget-view+json": {
              "model_id": "cc179330b5074effb0758dfad44fc1f2",
              "version_minor": 0,
              "version_major": 2
            },
            "text/plain": [
              "HBox(children=(FloatProgress(value=1.0, bar_style='info', max=1.0), HTML(value='')))"
            ]
          },
          "metadata": {
            "tags": []
          }
        },
        {
          "output_type": "stream",
          "text": [
            "Extracting ./MNISTT_data/FashionMNIST/raw/t10k-labels-idx1-ubyte.gz to ./MNISTT_data/FashionMNIST/raw\n",
            "Processing...\n"
          ],
          "name": "stdout"
        },
        {
          "output_type": "stream",
          "text": [
            "/usr/local/lib/python3.6/dist-packages/torchvision/datasets/mnist.py:480: UserWarning: The given NumPy array is not writeable, and PyTorch does not support non-writeable tensors. This means you can write to the underlying (supposedly non-writeable) NumPy array using the tensor. You may want to copy the array to protect its data or make it writeable before converting it to a tensor. This type of warning will be suppressed for the rest of this program. (Triggered internally at  /pytorch/torch/csrc/utils/tensor_numpy.cpp:141.)\n",
            "  return torch.from_numpy(parsed.astype(m[2], copy=False)).view(*s)\n"
          ],
          "name": "stderr"
        },
        {
          "output_type": "stream",
          "text": [
            "Done!\n"
          ],
          "name": "stdout"
        }
      ]
    },
    {
      "cell_type": "code",
      "metadata": {
        "colab": {
          "base_uri": "https://localhost:8080/"
        },
        "id": "9tsdl36BPMMl",
        "outputId": "c8258c36-98d3-460f-985c-1c989acc54a6"
      },
      "source": [
        "# split to train and validation\n",
        "targets=torch.tensor(train_set.targets)\n",
        "targets = targets[torch.randperm(len(targets))]\n",
        "\n",
        "x_train = torch.stack([x[0] for x in train_set], dim=0)\n",
        "y_train = torch.FloatTensor([x[1] for x in train_set])\n",
        "\n",
        "\n",
        "x_test = torch.stack([x[0] for x in test_set], dim=0)\n",
        "y_test = torch.FloatTensor([x[1] for x in test_set])"
      ],
      "execution_count": null,
      "outputs": [
        {
          "output_type": "stream",
          "text": [
            "/usr/local/lib/python3.6/dist-packages/ipykernel_launcher.py:2: UserWarning: To copy construct from a tensor, it is recommended to use sourceTensor.clone().detach() or sourceTensor.clone().detach().requires_grad_(True), rather than torch.tensor(sourceTensor).\n",
            "  \n"
          ],
          "name": "stderr"
        },
        {
          "output_type": "stream",
          "text": [
            "\n",
            "\n"
          ],
          "name": "stdout"
        }
      ]
    },
    {
      "cell_type": "markdown",
      "metadata": {
        "id": "4RATWnq-PMMm"
      },
      "source": [
        "# Analyze distributions"
      ]
    },
    {
      "cell_type": "code",
      "metadata": {
        "id": "IbwQF23YPMMm"
      },
      "source": [
        " output_mapping = {\n",
        "                 0: \"T-shirt/Top\",\n",
        "                 1: \"Trouser\",\n",
        "                 2: \"Pullover\",\n",
        "                 3: \"Dress\",\n",
        "                 4: \"Coat\", \n",
        "                 5: \"Sandal\", \n",
        "                 6: \"Shirt\",\n",
        "                 7: \"Sneaker\",\n",
        "                 8: \"Bag\",\n",
        "                 9: \"Ankle Boot\"\n",
        "                 }"
      ],
      "execution_count": null,
      "outputs": []
    },
    {
      "cell_type": "code",
      "metadata": {
        "colab": {
          "base_uri": "https://localhost:8080/"
        },
        "id": "ZHjYzUTAPMMn",
        "outputId": "7160e214-a0f7-40ba-ec89-5db60e130400"
      },
      "source": [
        "train_counts=y_train.unique(return_counts=True)\n",
        "test_counts=y_test.unique(return_counts=True)\n",
        "\n",
        "for i in range(10):\n",
        "    t=(100*train_counts[1][i]/(train_counts[1][i] + test_counts[1][i])).item()\n",
        "    v=(100*test_counts[1][i]/(train_counts[1][i] + test_counts[1][i])).item()\n",
        "    print( (output_mapping[i] + \": Train= {t:.2f}%;  Test= {v:.2f}%\").format(t=t, v=v))\n",
        "    "
      ],
      "execution_count": null,
      "outputs": [
        {
          "output_type": "stream",
          "text": [
            "T-shirt/Top: Train= 85.71%;  Test= 14.29%\n",
            "Trouser: Train= 85.71%;  Test= 14.29%\n",
            "Pullover: Train= 85.71%;  Test= 14.29%\n",
            "Dress: Train= 85.71%;  Test= 14.29%\n",
            "Coat: Train= 85.71%;  Test= 14.29%\n",
            "Sandal: Train= 85.71%;  Test= 14.29%\n",
            "Shirt: Train= 85.71%;  Test= 14.29%\n",
            "Sneaker: Train= 85.71%;  Test= 14.29%\n",
            "Bag: Train= 85.71%;  Test= 14.29%\n",
            "Ankle Boot: Train= 85.71%;  Test= 14.29%\n"
          ],
          "name": "stdout"
        }
      ]
    },
    {
      "cell_type": "markdown",
      "metadata": {
        "id": "3kR9AMkCPMMn"
      },
      "source": [
        "# Prepare data for federated learning"
      ]
    },
    {
      "cell_type": "code",
      "metadata": {
        "id": "g5EMbkaVPMMo"
      },
      "source": [
        "def split_and_shuffle_labels(y_data, seed, amount):\n",
        "    y_data=pd.DataFrame(y_data,columns=[\"labels\"])\n",
        "    y_data[\"i\"]=np.arange(len(y_data))\n",
        "    label_dict = dict()\n",
        "    for i in range(10):\n",
        "        var_name=  output_mapping[i]\n",
        "        label_info=y_data[y_data[\"labels\"]==i]\n",
        "        np.random.seed(seed)\n",
        "        label_info=np.random.permutation(label_info)\n",
        "        label_info=label_info[0:amount]\n",
        "        label_info=pd.DataFrame(label_info, columns=[\"labels\",\"i\"])\n",
        "        label_dict.update({var_name: label_info })\n",
        "    return label_dict"
      ],
      "execution_count": null,
      "outputs": []
    },
    {
      "cell_type": "markdown",
      "metadata": {
        "id": "djy7CPpQPMMp"
      },
      "source": [
        "This function splis the data with respect to the labels to 10 dataframes (each dataframe contains one unique label and the indices of the different pîctures annotated with that label).\n",
        "\n",
        "They are stored in a dictionnary where the key is the label and the value is the considered dataframe."
      ]
    },
    {
      "cell_type": "code",
      "metadata": {
        "colab": {
          "base_uri": "https://localhost:8080/",
          "height": 419
        },
        "id": "Ws0jJbvVPMMq",
        "outputId": "178e6b21-01a7-4b8c-f6e9-aa8c15b5a881"
      },
      "source": [
        "#example: Trouser class(label 1)\n",
        "split_and_shuffle_labels(y_train, 7, 6000)[\"Trouser\"]"
      ],
      "execution_count": null,
      "outputs": [
        {
          "output_type": "execute_result",
          "data": {
            "text/html": [
              "<div>\n",
              "<style scoped>\n",
              "    .dataframe tbody tr th:only-of-type {\n",
              "        vertical-align: middle;\n",
              "    }\n",
              "\n",
              "    .dataframe tbody tr th {\n",
              "        vertical-align: top;\n",
              "    }\n",
              "\n",
              "    .dataframe thead th {\n",
              "        text-align: right;\n",
              "    }\n",
              "</style>\n",
              "<table border=\"1\" class=\"dataframe\">\n",
              "  <thead>\n",
              "    <tr style=\"text-align: right;\">\n",
              "      <th></th>\n",
              "      <th>labels</th>\n",
              "      <th>i</th>\n",
              "    </tr>\n",
              "  </thead>\n",
              "  <tbody>\n",
              "    <tr>\n",
              "      <th>0</th>\n",
              "      <td>1.0</td>\n",
              "      <td>33366.0</td>\n",
              "    </tr>\n",
              "    <tr>\n",
              "      <th>1</th>\n",
              "      <td>1.0</td>\n",
              "      <td>54556.0</td>\n",
              "    </tr>\n",
              "    <tr>\n",
              "      <th>2</th>\n",
              "      <td>1.0</td>\n",
              "      <td>23364.0</td>\n",
              "    </tr>\n",
              "    <tr>\n",
              "      <th>3</th>\n",
              "      <td>1.0</td>\n",
              "      <td>43293.0</td>\n",
              "    </tr>\n",
              "    <tr>\n",
              "      <th>4</th>\n",
              "      <td>1.0</td>\n",
              "      <td>32819.0</td>\n",
              "    </tr>\n",
              "    <tr>\n",
              "      <th>...</th>\n",
              "      <td>...</td>\n",
              "      <td>...</td>\n",
              "    </tr>\n",
              "    <tr>\n",
              "      <th>5995</th>\n",
              "      <td>1.0</td>\n",
              "      <td>56938.0</td>\n",
              "    </tr>\n",
              "    <tr>\n",
              "      <th>5996</th>\n",
              "      <td>1.0</td>\n",
              "      <td>25205.0</td>\n",
              "    </tr>\n",
              "    <tr>\n",
              "      <th>5997</th>\n",
              "      <td>1.0</td>\n",
              "      <td>4872.0</td>\n",
              "    </tr>\n",
              "    <tr>\n",
              "      <th>5998</th>\n",
              "      <td>1.0</td>\n",
              "      <td>12002.0</td>\n",
              "    </tr>\n",
              "    <tr>\n",
              "      <th>5999</th>\n",
              "      <td>1.0</td>\n",
              "      <td>42777.0</td>\n",
              "    </tr>\n",
              "  </tbody>\n",
              "</table>\n",
              "<p>6000 rows × 2 columns</p>\n",
              "</div>"
            ],
            "text/plain": [
              "      labels        i\n",
              "0        1.0  33366.0\n",
              "1        1.0  54556.0\n",
              "2        1.0  23364.0\n",
              "3        1.0  43293.0\n",
              "4        1.0  32819.0\n",
              "...      ...      ...\n",
              "5995     1.0  56938.0\n",
              "5996     1.0  25205.0\n",
              "5997     1.0   4872.0\n",
              "5998     1.0  12002.0\n",
              "5999     1.0  42777.0\n",
              "\n",
              "[6000 rows x 2 columns]"
            ]
          },
          "metadata": {
            "tags": []
          },
          "execution_count": 7
        }
      ]
    },
    {
      "cell_type": "code",
      "metadata": {
        "id": "gmG1SsDQPMMr"
      },
      "source": [
        "def get_iid_subsamples_indices(label_dict, number_of_samples, amount):\n",
        "    sample_dict= dict()\n",
        "    batch_size=int(math.floor(amount/number_of_samples))\n",
        "    for i in range(number_of_samples):\n",
        "        sample_name=\"sample\"+str(i)\n",
        "        dumb=pd.DataFrame()\n",
        "        for j in range(10):\n",
        "            label_name=output_mapping[j]\n",
        "            a=label_dict[label_name][i*batch_size:(i+1)*batch_size]\n",
        "            dumb=pd.concat([dumb,a], axis=0)\n",
        "        dumb.reset_index(drop=True, inplace=True)    \n",
        "        sample_dict.update({sample_name: dumb}) \n",
        "    return sample_dict"
      ],
      "execution_count": null,
      "outputs": []
    },
    {
      "cell_type": "markdown",
      "metadata": {
        "id": "44t5kaLLPMMs"
      },
      "source": [
        "This function returns a dictionnary of 100 keys (100 devices), each key is given by \"sample+i\" and contains the same number of samples equally distributed to all the devices, except for the last device which takes the remaining pictures."
      ]
    },
    {
      "cell_type": "code",
      "metadata": {
        "id": "IiwRw29BPMMs"
      },
      "source": [
        "label_dict_train=split_and_shuffle_labels(y_data=y_train, seed=1, amount=4500)\n",
        "sample_dict_train=get_iid_subsamples_indices(label_dict=label_dict_train, number_of_samples=100, amount=4500)\n",
        "\n",
        "\n",
        "label_dict_test=split_and_shuffle_labels(y_data=y_test, seed=1, amount=900)\n",
        "sample_dict_test=get_iid_subsamples_indices(label_dict=label_dict_test, number_of_samples=100, amount=900)"
      ],
      "execution_count": null,
      "outputs": []
    },
    {
      "cell_type": "code",
      "metadata": {
        "colab": {
          "base_uri": "https://localhost:8080/"
        },
        "id": "QxawVuwLPMMs",
        "outputId": "c6d8c9da-6206-49a5-cf94-b47236788b54"
      },
      "source": [
        "#example: train first sample distrubution\n",
        "sample_dict_train[\"sample0\"][\"labels\"].value_counts()"
      ],
      "execution_count": null,
      "outputs": [
        {
          "output_type": "execute_result",
          "data": {
            "text/plain": [
              "9.0    45\n",
              "8.0    45\n",
              "7.0    45\n",
              "6.0    45\n",
              "5.0    45\n",
              "4.0    45\n",
              "3.0    45\n",
              "2.0    45\n",
              "1.0    45\n",
              "0.0    45\n",
              "Name: labels, dtype: int64"
            ]
          },
          "metadata": {
            "tags": []
          },
          "execution_count": 10
        }
      ]
    },
    {
      "cell_type": "code",
      "metadata": {
        "id": "JhnraypVPMMt"
      },
      "source": [
        "def create_iid_subsamples(sample_dict, x_data, y_data, x_name, y_name):\n",
        "    x_data_dict= dict()\n",
        "    y_data_dict= dict()\n",
        "    \n",
        "    for i in range(len(sample_dict)): \n",
        "        xname= x_name+str(i)\n",
        "        yname= y_name+str(i)\n",
        "        sample_name=\"sample\"+str(i)\n",
        "        \n",
        "        indices=np.sort(np.array(sample_dict[sample_name][\"i\"]))\n",
        "        \n",
        "        x_info= x_data[indices,:]\n",
        "        x_data_dict.update({xname : x_info})\n",
        "        \n",
        "        y_info= y_data[indices]\n",
        "        y_data_dict.update({yname : y_info})\n",
        "        \n",
        "    return x_data_dict, y_data_dict"
      ],
      "execution_count": null,
      "outputs": []
    },
    {
      "cell_type": "markdown",
      "metadata": {
        "id": "eKwsPgMBPMMt"
      },
      "source": [
        "This functions extracts x_train, y_train, x_test and y_test dictionnaries from the latest obtained dictionnary. Each element from the dictionnary is specific to a device. "
      ]
    },
    {
      "cell_type": "code",
      "metadata": {
        "id": "HNeONlmHPMMu"
      },
      "source": [
        "x_train_dict, y_train_dict = create_iid_subsamples(sample_dict=sample_dict_train, x_data=x_train, y_data=y_train, x_name=\"x_train\", y_name=\"y_train\")\n",
        "x_test_dict, y_test_dict = create_iid_subsamples(sample_dict=sample_dict_test, x_data=x_test, y_data=y_test, x_name=\"x_test\", y_name=\"y_test\")"
      ],
      "execution_count": null,
      "outputs": []
    },
    {
      "cell_type": "code",
      "metadata": {
        "colab": {
          "base_uri": "https://localhost:8080/"
        },
        "id": "k17G17B2PMMu",
        "outputId": "53ce665f-1062-4d2d-858a-0f26a321aeff"
      },
      "source": [
        "#example shape of first element of x_train \n",
        "x_train_dict[\"x_train0\"].shape"
      ],
      "execution_count": null,
      "outputs": [
        {
          "output_type": "execute_result",
          "data": {
            "text/plain": [
              "torch.Size([450, 1, 28, 28])"
            ]
          },
          "metadata": {
            "tags": []
          },
          "execution_count": 13
        }
      ]
    },
    {
      "cell_type": "code",
      "metadata": {
        "colab": {
          "base_uri": "https://localhost:8080/"
        },
        "id": "4hV5Ot-9PMMv",
        "outputId": "e9af8887-9a65-4304-a291-aa7912190916"
      },
      "source": [
        "#example shape of first element of y_test\n",
        "y_test_dict[\"y_test0\"].shape"
      ],
      "execution_count": null,
      "outputs": [
        {
          "output_type": "execute_result",
          "data": {
            "text/plain": [
              "torch.Size([90])"
            ]
          },
          "metadata": {
            "tags": []
          },
          "execution_count": 14
        }
      ]
    },
    {
      "cell_type": "code",
      "metadata": {
        "id": "iUCwc9FMPMMw"
      },
      "source": [
        "def compare_local_and_merged_model_performance(number_of_samples):\n",
        "    accuracy_table=pd.DataFrame(data=np.zeros((number_of_samples,3)), columns=[\"sample\", \"local_ind_model\", \"merged_main_model\"])\n",
        "    for i in range (number_of_samples):\n",
        "    \n",
        "        test_ds = TensorDataset(x_test_dict[name_of_x_test_sets[i]], y_test_dict[name_of_y_test_sets[i]])\n",
        "        test_dl = DataLoader(test_ds, batch_size=batch_size * 2)\n",
        "    \n",
        "        model=model_dict[name_of_models[i]]\n",
        "        criterion=criterion_dict[name_of_criterions[i]]\n",
        "        optimizer=optimizer_dict[name_of_optimizers[i]]\n",
        "    \n",
        "        individual_loss, individual_accuracy = validation(model, test_dl, criterion)\n",
        "        main_loss, main_accuracy =validation(main_model, test_dl, main_criterion )\n",
        "    \n",
        "        accuracy_table.loc[i, \"sample\"]=\"sample \"+str(i)\n",
        "        accuracy_table.loc[i, \"local_ind_model\"] = individual_accuracy\n",
        "        accuracy_table.loc[i, \"merged_main_model\"] = main_accuracy\n",
        "\n",
        "    return accuracy_table"
      ],
      "execution_count": null,
      "outputs": []
    },
    {
      "cell_type": "markdown",
      "metadata": {
        "id": "S15wUohePMMw"
      },
      "source": [
        "# Model"
      ]
    },
    {
      "cell_type": "code",
      "metadata": {
        "id": "cH6-2QIuPMMw"
      },
      "source": [
        "class cnn(nn.Module):\n",
        "    def __init__(self):\n",
        "        super(cnn, self).__init__()\n",
        "\n",
        "        self.layer1 = nn.Sequential(\n",
        "            nn.Conv2d(in_channels=1, out_channels=32, kernel_size=3, padding=1),\n",
        "            nn.BatchNorm2d(32),\n",
        "            nn.ReLU(),\n",
        "            nn.MaxPool2d(kernel_size=2, stride=2)\n",
        "        )\n",
        "        \n",
        "        self.layer2 = nn.Sequential(\n",
        "            nn.Conv2d(in_channels=32, out_channels=64, kernel_size=3),\n",
        "            nn.BatchNorm2d(64),\n",
        "            nn.ReLU(),\n",
        "            nn.MaxPool2d(2)\n",
        "        )\n",
        "        \n",
        "        self.fc1 = nn.Linear(in_features=64*6*6, out_features=600)\n",
        "        self.drop = nn.Dropout2d(0.25)\n",
        "        self.fc2 = nn.Linear(in_features=600, out_features=120)\n",
        "        self.fc3 = nn.Linear(in_features=120, out_features=10)\n",
        "        \n",
        "    def forward(self, x):\n",
        "        out = self.layer1(x)\n",
        "        out = self.layer2(out)\n",
        "        out = out.view(out.size(0), -1)\n",
        "        print(out.shape)\n",
        "        out = self.fc1(out)\n",
        "        out = self.drop(out)\n",
        "        out = self.fc2(out)\n",
        "        x = self.fc3(out)\n",
        "        \n",
        "        return x"
      ],
      "execution_count": null,
      "outputs": []
    },
    {
      "cell_type": "code",
      "metadata": {
        "id": "b9lcrV8XPMMx"
      },
      "source": [
        "def create_model_optimizer_criterion_dict(number_of_samples):\n",
        "    model_dict = dict()\n",
        "    optimizer_dict= dict()\n",
        "    criterion_dict = dict()\n",
        "    \n",
        "    for i in range(number_of_samples):\n",
        "        model_name=\"model\"+str(i)\n",
        "        model_info=cnn()\n",
        "        model_dict.update({model_name : model_info })\n",
        "        \n",
        "        optimizer_name=\"optimizer\"+str(i)\n",
        "        optimizer_info = torch.optim.SGD(model_info.parameters(), lr=learning_rate, momentum=momentum)\n",
        "        optimizer_dict.update({optimizer_name : optimizer_info })\n",
        "        \n",
        "        criterion_name = \"criterion\"+str(i)\n",
        "        criterion_info = nn.CrossEntropyLoss()\n",
        "        criterion_dict.update({criterion_name : criterion_info})\n",
        "        \n",
        "    return model_dict, optimizer_dict, criterion_dict "
      ],
      "execution_count": null,
      "outputs": []
    },
    {
      "cell_type": "markdown",
      "metadata": {
        "id": "8pfJworuPMMx"
      },
      "source": [
        "Similarly to the datasets dictionnaries, we create a local model with respect to each device and we assign each model to its respective key. "
      ]
    },
    {
      "cell_type": "code",
      "metadata": {
        "id": "CnF2JHAKPMMy"
      },
      "source": [
        "# parameters for train\n",
        "number_of_samples=100\n",
        "learning_rate = 0.01\n",
        "numEpoch = 10\n",
        "batch_size = 32\n",
        "momentum = 0.9"
      ],
      "execution_count": null,
      "outputs": []
    },
    {
      "cell_type": "code",
      "metadata": {
        "id": "BD0HXL69PMMy"
      },
      "source": [
        "def get_averaged_weights(model_dict, number_of_samples):\n",
        "   \n",
        "    fc1_mean_weight = torch.zeros(size=model_dict[name_of_models[0]].fc1.weight.shape)\n",
        "    fc1_mean_bias = torch.zeros(size=model_dict[name_of_models[0]].fc1.bias.shape)\n",
        "    \n",
        "    \n",
        "    fc2_mean_weight = torch.zeros(size=model_dict[name_of_models[0]].fc2.weight.shape)\n",
        "    fc2_mean_bias = torch.zeros(size=model_dict[name_of_models[0]].fc2.bias.shape)\n",
        "    \n",
        "    fc3_mean_weight = torch.zeros(size=model_dict[name_of_models[0]].fc3.weight.shape)\n",
        "    fc3_mean_bias = torch.zeros(size=model_dict[name_of_models[0]].fc3.bias.shape)\n",
        "    \n",
        "    conv2d1_mean_weight = torch.zeros(size=model_dict[name_of_models[0]].layer1[0].weight.shape)\n",
        "    conv2d1_mean_bias = torch.zeros(size=model_dict[name_of_models[0]].layer1[0].bias.shape)\n",
        "\n",
        "    conv2d2_mean_weight = torch.zeros(size=model_dict[name_of_models[0]].layer2[0].weight.shape)\n",
        "    conv2d2_mean_bias = torch.zeros(size=model_dict[name_of_models[0]].layer2[0].bias.shape)\n",
        "    \n",
        "    with torch.no_grad():\n",
        "    \n",
        "    \n",
        "        for i in range(number_of_samples):\n",
        "            fc1_mean_weight += model_dict[name_of_models[i]].fc1.weight.data.clone()\n",
        "            fc1_mean_bias += model_dict[name_of_models[i]].fc1.bias.data.clone()\n",
        "        \n",
        "            fc2_mean_weight += model_dict[name_of_models[i]].fc2.weight.data.clone()\n",
        "            fc2_mean_bias += model_dict[name_of_models[i]].fc2.bias.data.clone()\n",
        "        \n",
        "            fc3_mean_weight += model_dict[name_of_models[i]].fc3.weight.data.clone()\n",
        "            fc3_mean_bias += model_dict[name_of_models[i]].fc3.bias.data.clone()\n",
        "            \n",
        "            conv2d1_mean_weight+=model_dict[name_of_models[0]].layer1[0].weight.data.clone()\n",
        "            conv2d1_mean_bias+=model_dict[name_of_models[0]].layer1[0].bias.data.clone()\n",
        "\n",
        "            conv2d2_mean_weight+=model_dict[name_of_models[0]].layer2[0].weight.data.clone()\n",
        "            conv2d2_mean_bias+=model_dict[name_of_models[0]].layer2[0].bias.data.clone()\n",
        "        \n",
        "        fc1_mean_weight =fc1_mean_weight/number_of_samples\n",
        "        fc1_mean_bias = fc1_mean_bias/ number_of_samples\n",
        "    \n",
        "        fc2_mean_weight =fc2_mean_weight/number_of_samples\n",
        "        fc2_mean_bias = fc2_mean_bias/ number_of_samples\n",
        "    \n",
        "        fc3_mean_weight =fc3_mean_weight/number_of_samples\n",
        "        fc3_mean_bias = fc3_mean_bias/ number_of_samples\n",
        "        \n",
        "        conv2d1_mean_weight =conv2d1_mean_weight/number_of_samples\n",
        "        conv2d1_mean_bias = conv2d1_mean_bias/ number_of_samples\n",
        "        \n",
        "        conv2d2_mean_weight =conv2d2_mean_weight/number_of_samples\n",
        "        conv2d2_mean_bias = conv2d2_mean_bias/ number_of_samples\n",
        "   \n",
        "    return fc1_mean_weight, fc1_mean_bias, fc2_mean_weight, fc2_mean_bias, fc3_mean_weight, fc3_mean_bias, conv2d1_mean_weight, conv2d1_mean_bias, conv2d2_mean_weight, conv2d2_mean_bias\n"
      ],
      "execution_count": null,
      "outputs": []
    },
    {
      "cell_type": "markdown",
      "metadata": {
        "id": "WoWFw0uHPMMz"
      },
      "source": [
        "This function takes the average of weights & biases in individual nodes.\n",
        "We started by initializing an instant for both weights and biases of each layer, then fill it with the updated weights and biases of each node (i.e sample).\n",
        "Finally, we calculate the average  weight and biases from all the collected parameters of all samples. \n"
      ]
    },
    {
      "cell_type": "code",
      "metadata": {
        "id": "JJIBomIMPMMz"
      },
      "source": [
        "def set_averaged_weights_as_main_model_weights_and_update_main_model(main_model,model_dict, number_of_samples):\n",
        "    fc1_mean_weight, fc1_mean_bias, fc2_mean_weight, fc2_mean_bias, fc3_mean_weight, fc3_mean_bias, conv2d1_mean_weight, conv2d1_mean_bias, conv2d2_mean_weight, conv2d2_mean_bias = get_averaged_weights(model_dict, number_of_samples=number_of_samples)\n",
        "    \n",
        "    with torch.no_grad():\n",
        "        main_model.fc1.weight.data = fc1_mean_weight.data.clone()\n",
        "        main_model.fc2.weight.data = fc2_mean_weight.data.clone()\n",
        "        main_model.fc3.weight.data = fc3_mean_weight.data.clone()\n",
        "        main_model.layer1[0].weight.data = conv2d1_mean_weight.data.clone()\n",
        "        main_model.layer2[0].weight.data = conv2d2_mean_weight.data.clone()\n",
        "\n",
        "        main_model.fc1.bias.data = fc1_mean_bias.data.clone()\n",
        "        main_model.fc2.bias.data = fc2_mean_bias.data.clone()\n",
        "        main_model.fc3.bias.data = fc3_mean_bias.data.clone() \n",
        "        main_model.layer1[0].bias.data = conv2d1_mean_bias.data.clone()\n",
        "        main_model.layer2[0].bias.data = conv2d2_mean_bias.data.clone()\n",
        "\n",
        "    return main_model"
      ],
      "execution_count": null,
      "outputs": []
    },
    {
      "cell_type": "markdown",
      "metadata": {
        "id": "k79hPwnLPMM0"
      },
      "source": [
        "This function sends the averaged weights of individual local devices to the main model and sets them as the new weights of the main model."
      ]
    },
    {
      "cell_type": "code",
      "metadata": {
        "id": "4nnQP_5OPMM0"
      },
      "source": [
        "def send_main_model_to_nodes_and_update_model_dict(main_model, model_dict, number_of_samples):\n",
        "    with torch.no_grad():\n",
        "        for i in range(number_of_samples):\n",
        "\n",
        "            model_dict[name_of_models[i]].fc1.weight.data =main_model.fc1.weight.data.clone()\n",
        "            model_dict[name_of_models[i]].fc2.weight.data =main_model.fc2.weight.data.clone()\n",
        "            model_dict[name_of_models[i]].fc3.weight.data =main_model.fc3.weight.data.clone()\n",
        "            model_dict[name_of_models[i]].layer1[0].weight.data =main_model.layer1[0].weight.data.clone()\n",
        "            model_dict[name_of_models[i]].layer2[0].weight.data =main_model.layer2[0].weight.data.clone()\n",
        "            \n",
        "            model_dict[name_of_models[i]].fc1.bias.data =main_model.fc1.bias.data.clone()\n",
        "            model_dict[name_of_models[i]].fc2.bias.data =main_model.fc2.bias.data.clone()\n",
        "            model_dict[name_of_models[i]].fc3.bias.data =main_model.fc3.bias.data.clone() \n",
        "            model_dict[name_of_models[i]].layer1[0].bias.data =main_model.layer1[0].bias.data.clone()\n",
        "            model_dict[name_of_models[i]].layer2[0].bias.data =main_model.layer2[0].bias.data.clone()\n",
        "    \n",
        "    return model_dict"
      ],
      "execution_count": null,
      "outputs": []
    },
    {
      "cell_type": "markdown",
      "metadata": {
        "id": "W9ksiWAbPMM0"
      },
      "source": [
        "This function sends the parameters of the main model to the nodes. It returns an updated version of  model_dict.\n"
      ]
    },
    {
      "cell_type": "code",
      "metadata": {
        "id": "AoGratZ5PMM2"
      },
      "source": [
        "def train(model, train_loader, criterion, optimizer):\n",
        "    model.train()\n",
        "    train_loss = 0.0\n",
        "    correct = 0\n",
        "\n",
        "    for data, target in train_loader:\n",
        "        output = model(data).cuda()\n",
        "        loss = criterion(output, target.cuda().type( torch.int64))\n",
        "        optimizer.zero_grad()\n",
        "        loss.backward()\n",
        "        optimizer.step()\n",
        "        \n",
        "        train_loss += loss.item()\n",
        "        prediction = output.argmax(dim=1, keepdim=True).cuda()\n",
        "        correct += prediction.cpu().eq(target.cpu().view_as(prediction.cpu())).sum().item()\n",
        "        \n",
        "\n",
        "    return train_loss / len(train_loader), correct/len(train_loader.dataset)"
      ],
      "execution_count": null,
      "outputs": []
    },
    {
      "cell_type": "markdown",
      "metadata": {
        "id": "BcgQTHwnPMM3"
      },
      "source": [
        "This function is used to train a model on its data (train_loader), with a specified criterion and optimizer. "
      ]
    },
    {
      "cell_type": "code",
      "metadata": {
        "id": "j3SK0Xq_PMM3"
      },
      "source": [
        "def validation(model, test_loader, criterion):\n",
        "    model.eval()\n",
        "    test_loss = 0.0\n",
        "    correct = 0\n",
        "    with torch.no_grad():\n",
        "        for data, target in test_loader:\n",
        "            output = model(data).cuda()\n",
        "            test_loss += criterion(output, target.cuda().type( torch.int64) ).item()\n",
        "            prediction = output.argmax(dim=1, keepdim=True).cuda()\n",
        "            correct += prediction.cpu().eq(target.cpu().view_as(prediction.cpu())).sum().item()\n",
        "\n",
        "    test_loss /= len(test_loader)\n",
        "    correct /= len(test_loader.dataset)\n",
        "\n",
        "    return (test_loss, correct)\n"
      ],
      "execution_count": null,
      "outputs": []
    },
    {
      "cell_type": "markdown",
      "metadata": {
        "id": "cw7mDY2dPMM3"
      },
      "source": [
        "This function evaluates the model on the test data"
      ]
    },
    {
      "cell_type": "code",
      "metadata": {
        "id": "oBN4AvL9PMM4"
      },
      "source": [
        "def start_train_end_node_process(number_of_samples):\n",
        "    for i in range (number_of_samples): \n",
        "\n",
        "        train_ds = TensorDataset(x_train_dict[name_of_x_train_sets[i]], y_train_dict[name_of_y_train_sets[i]])\n",
        "        train_dl = DataLoader(train_ds, batch_size=batch_size, shuffle=True)\n",
        "\n",
        "        test_ds = TensorDataset(x_test_dict[name_of_x_test_sets[i]], y_test_dict[name_of_y_test_sets[i]])\n",
        "        test_dl = DataLoader(test_ds, batch_size=batch_size * 2)\n",
        "        \n",
        "        \n",
        "    \n",
        "        model=model_dict[name_of_models[i]]\n",
        "        criterion=criterion_dict[name_of_criterions[i]]\n",
        "        optimizer=optimizer_dict[name_of_optimizers[i]]\n",
        "    \n",
        "        print(\"Subset\" ,i)\n",
        "        for epoch in range(numEpoch):        \n",
        "            train_loss, train_accuracy = train(model, train_dl, criterion, optimizer)\n",
        "            val_loss, val_accuracy = validation(model, test_dl, criterion)\n",
        "    \n",
        "            print(\"epoch: {:3.0f}\".format(epoch+1) + \" | train accuracy: {:7.5f}\".format(train_accuracy) + \" | validation accuracy: {:7.5f}\".format(val_accuracy))"
      ],
      "execution_count": null,
      "outputs": []
    },
    {
      "cell_type": "markdown",
      "metadata": {
        "id": "oPDZs-B2PMM4"
      },
      "source": [
        "This function does the train of a specific node (a local device) for 100 epochs on its own mini-dataset."
      ]
    },
    {
      "cell_type": "code",
      "metadata": {
        "id": "1WpUHNn-PMM4"
      },
      "source": [
        "def start_train_end_node_process_without_print(number_of_samples):\n",
        "    for i in range (number_of_samples): \n",
        "\n",
        "        train_ds = TensorDataset(x_train_dict[name_of_x_train_sets[i]], y_train_dict[name_of_y_train_sets[i]])\n",
        "        train_dl = DataLoader(train_ds, batch_size=batch_size, shuffle=True)\n",
        "\n",
        "        test_ds = TensorDataset(x_test_dict[name_of_x_test_sets[i]], y_test_dict[name_of_y_test_sets[i]])\n",
        "        test_dl = DataLoader(test_ds, batch_size=batch_size * 2)\n",
        "        \n",
        "        \n",
        "    \n",
        "        model=model_dict[name_of_models[i]]\n",
        "        criterion=criterion_dict[name_of_criterions[i]]\n",
        "        optimizer=optimizer_dict[name_of_optimizers[i]]\n",
        "    \n",
        "        for epoch in range(numEpoch):        \n",
        "            train_loss, train_accuracy = train(model, train_dl, criterion, optimizer)\n",
        "            val_loss, val_accuracy = validation(model, test_dl, criterion)\n"
      ],
      "execution_count": null,
      "outputs": []
    },
    {
      "cell_type": "markdown",
      "metadata": {
        "id": "KuiYQlSaPMM8"
      },
      "source": [
        "This is the same previous function except that we don't print the process in each node."
      ]
    },
    {
      "cell_type": "code",
      "metadata": {
        "id": "PLlZPUJuPMM9"
      },
      "source": [
        "main_model = cnn()\n",
        "main_optimizer = torch.optim.SGD(main_model.parameters(), lr=0.01, momentum=0.9)\n",
        "main_criterion = nn.CrossEntropyLoss()"
      ],
      "execution_count": null,
      "outputs": []
    },
    {
      "cell_type": "markdown",
      "metadata": {
        "id": "iDRHERKUPMM_"
      },
      "source": [
        "The created model is a Convolutional network. We create an instance from the defined cnn class along with the SGD optimizer and CrossEntropyLoss to track the error."
      ]
    },
    {
      "cell_type": "code",
      "metadata": {
        "id": "8qWFABYnPMNA"
      },
      "source": [
        "model_dict, optimizer_dict, criterion_dict = create_model_optimizer_criterion_dict(number_of_samples)\n",
        "#fc1_mean_weight, fc1_mean_bias, fc2_mean_weight, fc2_mean_bias, fc3_mean_weight, fc3_mean_bias, conv2d1_mean_weight, conv2d1_mean_bias, conv2d2_mean_weight, conv2d2_mean_bias = get_averaged_weights(model_dict, number_of_samples)"
      ],
      "execution_count": null,
      "outputs": []
    },
    {
      "cell_type": "code",
      "metadata": {
        "id": "864oKqkhPMNA"
      },
      "source": [
        "#List of the names of data partitions\n",
        "name_of_x_train_sets=list(x_train_dict.keys())\n",
        "name_of_y_train_sets=list(y_train_dict.keys())\n",
        "name_of_x_test_sets=list(x_test_dict.keys())\n",
        "name_of_y_test_sets=list(y_test_dict.keys())\n",
        "\n",
        "#List of the names of models, optimizers and criterions\n",
        "name_of_models=list(model_dict.keys())\n",
        "name_of_optimizers=list(optimizer_dict.keys())\n",
        "name_of_criterions=list(criterion_dict.keys())\n"
      ],
      "execution_count": null,
      "outputs": []
    },
    {
      "cell_type": "code",
      "metadata": {
        "colab": {
          "base_uri": "https://localhost:8080/"
        },
        "id": "YC8IiqUlPMNB",
        "outputId": "9815aa6e-45eb-4a24-b32c-6baf44d186fb"
      },
      "source": [
        "print(main_model.fc2.weight[0:1,0:5])\n",
        "print(model_dict[\"model1\"].fc2.weight[0:1,0:5])"
      ],
      "execution_count": null,
      "outputs": [
        {
          "output_type": "stream",
          "text": [
            "tensor([[-0.0360, -0.0361,  0.0203, -0.0196, -0.0389]],\n",
            "       grad_fn=<SliceBackward>)\n",
            "tensor([[ 0.0095,  0.0150, -0.0198,  0.0215,  0.0015]],\n",
            "       grad_fn=<SliceBackward>)\n"
          ],
          "name": "stdout"
        }
      ]
    },
    {
      "cell_type": "code",
      "metadata": {
        "id": "04e7LWyoPMNB"
      },
      "source": [
        "model_dict=send_main_model_to_nodes_and_update_model_dict(main_model, model_dict, number_of_samples)"
      ],
      "execution_count": null,
      "outputs": []
    },
    {
      "cell_type": "code",
      "metadata": {
        "colab": {
          "base_uri": "https://localhost:8080/"
        },
        "id": "FFxFLfX-PMNC",
        "outputId": "1d57e343-b060-45fe-96a6-29b436e3c866"
      },
      "source": [
        "print(main_model.fc2.weight[0:1,0:5])\n",
        "print(model_dict[\"model1\"].fc2.weight[0:1,0:5])"
      ],
      "execution_count": null,
      "outputs": [
        {
          "output_type": "stream",
          "text": [
            "tensor([[-0.0360, -0.0361,  0.0203, -0.0196, -0.0389]],\n",
            "       grad_fn=<SliceBackward>)\n",
            "tensor([[-0.0360, -0.0361,  0.0203, -0.0196, -0.0389]],\n",
            "       grad_fn=<SliceBackward>)\n"
          ],
          "name": "stdout"
        }
      ]
    },
    {
      "cell_type": "markdown",
      "metadata": {
        "id": "my4UvwPiQMGA"
      },
      "source": [
        "We can see that the updates from the main model have been made successfully."
      ]
    },
    {
      "cell_type": "code",
      "metadata": {
        "id": "V5MmYxH3PMNC"
      },
      "source": [
        "start_train_end_node_process(number_of_samples)"
      ],
      "execution_count": null,
      "outputs": []
    },
    {
      "cell_type": "markdown",
      "metadata": {
        "id": "CJeEuZzjPMND"
      },
      "source": [
        "This training is only done for 1 iteration.\n",
        "We can see that the accuracies are not that great.\n",
        "\n",
        "It's normal because we haven't sent the local trained weights to the main model. Once we send the weights to the main model, they're averaged and sent back to the local nodes. Then, this process is repeated until we achieve 10 iterations."
      ]
    },
    {
      "cell_type": "code",
      "metadata": {
        "colab": {
          "background_save": true
        },
        "id": "bOAYRt5sPMND"
      },
      "source": [
        "test_ds = TensorDataset(x_test, y_test)\n",
        "test_dl = DataLoader(test_ds, batch_size=batch_size * 2)"
      ],
      "execution_count": null,
      "outputs": []
    },
    {
      "cell_type": "code",
      "metadata": {
        "colab": {
          "background_save": true
        },
        "id": "9lVLOXr0PMNE"
      },
      "source": [
        "before_acc_table=compare_local_and_merged_model_performance(number_of_samples=number_of_samples)\n",
        "before_test_loss, before_test_accuracy = validation(main_model, test_dl, main_criterion)\n",
        "#averaging for main model\n",
        "main_model= set_averaged_weights_as_main_model_weights_and_update_main_model(main_model,model_dict, number_of_samples) \n",
        "after_acc_table=compare_local_and_merged_model_performance(number_of_samples=number_of_samples)\n",
        "after_test_loss, after_test_accuracy = validation(main_model, test_dl, main_criterion)"
      ],
      "execution_count": null,
      "outputs": []
    },
    {
      "cell_type": "code",
      "metadata": {
        "colab": {
          "background_save": true
        },
        "id": "-RWE0wi0PMNE",
        "outputId": "2b8be394-f3a6-460e-bbf7-b4c2615f6fd0"
      },
      "source": [
        "print(\"Federated main model vs individual local models before FedAvg first iteration\")\n",
        "before_acc_table.head()"
      ],
      "execution_count": null,
      "outputs": [
        {
          "output_type": "stream",
          "text": [
            "Federated main model vs individual local models before FedAvg first iteration\n"
          ],
          "name": "stdout"
        },
        {
          "output_type": "execute_result",
          "data": {
            "text/html": [
              "<div>\n",
              "<style scoped>\n",
              "    .dataframe tbody tr th:only-of-type {\n",
              "        vertical-align: middle;\n",
              "    }\n",
              "\n",
              "    .dataframe tbody tr th {\n",
              "        vertical-align: top;\n",
              "    }\n",
              "\n",
              "    .dataframe thead th {\n",
              "        text-align: right;\n",
              "    }\n",
              "</style>\n",
              "<table border=\"1\" class=\"dataframe\">\n",
              "  <thead>\n",
              "    <tr style=\"text-align: right;\">\n",
              "      <th></th>\n",
              "      <th>sample</th>\n",
              "      <th>local_ind_model</th>\n",
              "      <th>merged_main_model</th>\n",
              "    </tr>\n",
              "  </thead>\n",
              "  <tbody>\n",
              "    <tr>\n",
              "      <th>0</th>\n",
              "      <td>sample 0</td>\n",
              "      <td>0.755556</td>\n",
              "      <td>0.100000</td>\n",
              "    </tr>\n",
              "    <tr>\n",
              "      <th>1</th>\n",
              "      <td>sample 1</td>\n",
              "      <td>0.722222</td>\n",
              "      <td>0.111111</td>\n",
              "    </tr>\n",
              "    <tr>\n",
              "      <th>2</th>\n",
              "      <td>sample 2</td>\n",
              "      <td>0.711111</td>\n",
              "      <td>0.100000</td>\n",
              "    </tr>\n",
              "    <tr>\n",
              "      <th>3</th>\n",
              "      <td>sample 3</td>\n",
              "      <td>0.711111</td>\n",
              "      <td>0.077778</td>\n",
              "    </tr>\n",
              "    <tr>\n",
              "      <th>4</th>\n",
              "      <td>sample 4</td>\n",
              "      <td>0.811111</td>\n",
              "      <td>0.133333</td>\n",
              "    </tr>\n",
              "  </tbody>\n",
              "</table>\n",
              "</div>"
            ],
            "text/plain": [
              "     sample  local_ind_model  merged_main_model\n",
              "0  sample 0         0.755556           0.100000\n",
              "1  sample 1         0.722222           0.111111\n",
              "2  sample 2         0.711111           0.100000\n",
              "3  sample 3         0.711111           0.077778\n",
              "4  sample 4         0.811111           0.133333"
            ]
          },
          "metadata": {
            "tags": []
          },
          "execution_count": 0
        }
      ]
    },
    {
      "cell_type": "markdown",
      "metadata": {
        "id": "yQlhmuZLR3-6"
      },
      "source": [
        "After training local models for 1 iteration and after sending the weights and before averaging them by the main model we can see that the main model has very bad accuracy because it was randomly initialiazed. \n",
        "\\\n",
        "We must send the weights of the local nodes to the main i order to average them and get more reasonable accuracy."
      ]
    },
    {
      "cell_type": "code",
      "metadata": {
        "colab": {
          "background_save": true
        },
        "id": "ZPkYcxxnPMNE",
        "outputId": "d5a2eebd-c360-4311-ff96-9063da58084c"
      },
      "source": [
        "print(\"Federated main model vs individual local models after FedAvg first iteration\")\n",
        "after_acc_table.head()"
      ],
      "execution_count": null,
      "outputs": [
        {
          "output_type": "stream",
          "text": [
            "Federated main model vs individual local models after FedAvg first iteration\n"
          ],
          "name": "stdout"
        },
        {
          "output_type": "execute_result",
          "data": {
            "text/html": [
              "<div>\n",
              "<style scoped>\n",
              "    .dataframe tbody tr th:only-of-type {\n",
              "        vertical-align: middle;\n",
              "    }\n",
              "\n",
              "    .dataframe tbody tr th {\n",
              "        vertical-align: top;\n",
              "    }\n",
              "\n",
              "    .dataframe thead th {\n",
              "        text-align: right;\n",
              "    }\n",
              "</style>\n",
              "<table border=\"1\" class=\"dataframe\">\n",
              "  <thead>\n",
              "    <tr style=\"text-align: right;\">\n",
              "      <th></th>\n",
              "      <th>sample</th>\n",
              "      <th>local_ind_model</th>\n",
              "      <th>merged_main_model</th>\n",
              "    </tr>\n",
              "  </thead>\n",
              "  <tbody>\n",
              "    <tr>\n",
              "      <th>0</th>\n",
              "      <td>sample 0</td>\n",
              "      <td>0.755556</td>\n",
              "      <td>0.444444</td>\n",
              "    </tr>\n",
              "    <tr>\n",
              "      <th>1</th>\n",
              "      <td>sample 1</td>\n",
              "      <td>0.722222</td>\n",
              "      <td>0.455556</td>\n",
              "    </tr>\n",
              "    <tr>\n",
              "      <th>2</th>\n",
              "      <td>sample 2</td>\n",
              "      <td>0.711111</td>\n",
              "      <td>0.366667</td>\n",
              "    </tr>\n",
              "    <tr>\n",
              "      <th>3</th>\n",
              "      <td>sample 3</td>\n",
              "      <td>0.711111</td>\n",
              "      <td>0.411111</td>\n",
              "    </tr>\n",
              "    <tr>\n",
              "      <th>4</th>\n",
              "      <td>sample 4</td>\n",
              "      <td>0.811111</td>\n",
              "      <td>0.455556</td>\n",
              "    </tr>\n",
              "  </tbody>\n",
              "</table>\n",
              "</div>"
            ],
            "text/plain": [
              "     sample  local_ind_model  merged_main_model\n",
              "0  sample 0         0.755556           0.444444\n",
              "1  sample 1         0.722222           0.455556\n",
              "2  sample 2         0.711111           0.366667\n",
              "3  sample 3         0.711111           0.411111\n",
              "4  sample 4         0.811111           0.455556"
            ]
          },
          "metadata": {
            "tags": []
          },
          "execution_count": 0
        }
      ]
    },
    {
      "cell_type": "markdown",
      "metadata": {
        "id": "6AeZbS3oQkXD"
      },
      "source": [
        "After training local models for 1 iteration and after sending the weights and after averaging them by the main model we can see that the main model still has medium accuracy. \n",
        "\\\n",
        "We must train for more iterations in local nodes and repeat the same process."
      ]
    },
    {
      "cell_type": "code",
      "metadata": {
        "colab": {
          "background_save": true
        },
        "id": "slaHTQN1PMNE",
        "outputId": "abaa4747-2135-42df-a9fd-9806c40ea023"
      },
      "source": [
        "for i in range(10):\n",
        "    #send weights to local nodes\n",
        "    model_dict=send_main_model_to_nodes_and_update_model_dict(main_model, model_dict, number_of_samples)\n",
        "    #train local nodes\n",
        "    start_train_end_node_process_without_print(number_of_samples)\n",
        "    \n",
        "    main_model= set_averaged_weights_as_main_model_weights_and_update_main_model(main_model,model_dict, number_of_samples) \n",
        "    test_loss, test_accuracy = validation(main_model, test_dl, main_criterion)\n",
        "    print(\"Iteration\", str(i+2), \": main_model accuracy on all test data: {:7.4f}\".format(test_accuracy))"
      ],
      "execution_count": null,
      "outputs": [
        {
          "output_type": "stream",
          "text": [
            "Iteration 2 : main_model accuracy on all test data:  0.5113\n",
            "Iteration 3 : main_model accuracy on all test data:  0.3891\n",
            "Iteration 4 : main_model accuracy on all test data:  0.2513\n",
            "Iteration 5 : main_model accuracy on all test data:  0.2240\n",
            "Iteration 6 : main_model accuracy on all test data:  0.2018\n",
            "Iteration 7 : main_model accuracy on all test data:  0.2079\n",
            "Iteration 8 : main_model accuracy on all test data:  0.1988\n",
            "Iteration 9 : main_model accuracy on all test data:  0.2214\n",
            "Iteration 10 : main_model accuracy on all test data:  0.2777\n",
            "Iteration 11 : main_model accuracy on all test data:  0.2556\n"
          ],
          "name": "stdout"
        }
      ]
    },
    {
      "cell_type": "markdown",
      "metadata": {
        "id": "4ECld_lwSt54"
      },
      "source": [
        "The same iterations are repeated 10 times and the accuracy improves gradually as the main model learns more from the local nodes each iteration.\n",
        "\\\n",
        "It is not a perfect result and may be less performant than the normal training on ine unique device; but the results are quite intresting."
      ]
    },
    {
      "cell_type": "code",
      "metadata": {
        "id": "rJ7WLiHkq5Eh"
      },
      "source": [
        ""
      ],
      "execution_count": null,
      "outputs": []
    }
  ]
}